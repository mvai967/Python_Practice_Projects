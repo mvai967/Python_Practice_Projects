{
 "cells": [
  {
   "cell_type": "code",
   "execution_count": 5,
   "id": "d707e5e8",
   "metadata": {},
   "outputs": [
    {
     "name": "stdout",
     "output_type": "stream",
     "text": [
      "20.2\n"
     ]
    }
   ],
   "source": [
    "# Mean\n",
    "list1 = [12, 16, 20, 20, 12, 30, 25, 23, 24, 20]\n",
    "mean = sum(list1)/len(list1)\n",
    "print(mean)"
   ]
  },
  {
   "cell_type": "code",
   "execution_count": 6,
   "id": "35db5023",
   "metadata": {},
   "outputs": [
    {
     "name": "stdout",
     "output_type": "stream",
     "text": [
      "20.0\n"
     ]
    }
   ],
   "source": [
    "# Median\n",
    "list1 = [12, 16, 20, 20, 12, 30, 25, 23, 24, 20]\n",
    "list1.sort()\n",
    "\n",
    "if len(list1) % 2 == 0:\n",
    "    m1 = list1[len(list1)//2]\n",
    "    m2 = list1[len(list1)//2 - 1]\n",
    "    median = (m1 + m2)/2\n",
    "else:\n",
    "    median = list1[len(list1)//2]\n",
    "print(median)"
   ]
  },
  {
   "cell_type": "code",
   "execution_count": 65,
   "id": "2350c542",
   "metadata": {},
   "outputs": [
    {
     "name": "stdout",
     "output_type": "stream",
     "text": [
      "20\n"
     ]
    }
   ],
   "source": [
    "# Mode\n",
    "list1 = [12, 16, 20, 20, 12, 30, 25, 23, 24, 20]\n",
    "frequency = {}\n",
    "for i in list1:\n",
    "    frequency.setdefault(i, 0)\n",
    "    frequency[i]+=1\n",
    "\n",
    "frequent = max(frequency.values())\n",
    "for i, j in frequency.items():\n",
    "    if j == frequent:\n",
    "        mode = i\n",
    "print(mode)"
   ]
  }
 ],
 "metadata": {
  "kernelspec": {
   "display_name": "Python 3 (ipykernel)",
   "language": "python",
   "name": "python3"
  },
  "language_info": {
   "codemirror_mode": {
    "name": "ipython",
    "version": 3
   },
   "file_extension": ".py",
   "mimetype": "text/x-python",
   "name": "python",
   "nbconvert_exporter": "python",
   "pygments_lexer": "ipython3",
   "version": "3.9.13"
  }
 },
 "nbformat": 4,
 "nbformat_minor": 5
}
