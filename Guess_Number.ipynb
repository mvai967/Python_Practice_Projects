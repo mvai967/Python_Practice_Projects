{
 "cells": [
  {
   "cell_type": "code",
   "execution_count": 7,
   "id": "9da558a7",
   "metadata": {},
   "outputs": [
    {
     "name": "stdout",
     "output_type": "stream",
     "text": [
      "Enter any number: h\n",
      "re-enter interger guess number\n",
      "Too high!\n",
      "Enter number again: 7\n",
      "Too high!\n",
      "Enter number again: 5\n",
      "Too high!\n",
      "Enter number again: 2\n",
      "Too high!\n",
      "Enter number again: 4\n",
      "Too high!\n",
      "Enter number again: 3\n",
      "Too high!\n",
      "Enter number again: 1\n",
      "you guessed it right!!\n"
     ]
    }
   ],
   "source": [
    "import random\n",
    "n=random.randrange(1,10)\n",
    "try:\n",
    "    guess = int(input(\"Enter any number: \"))\n",
    "except:\n",
    "    print(\"re-enter interger guess number\")\n",
    "\n",
    "while n!=guess:\n",
    "    if guess < n:\n",
    "        print(\"Too low\")\n",
    "        guess = int(input(\"Enter number again: \"))\n",
    "    elif guess > n:\n",
    "        print(\"Too high!\")\n",
    "        guess = int(input(\"Enter number again: \"))\n",
    "    else:\n",
    "        break\n",
    "print(\"you guessed it right!!\")"
   ]
  }
 ],
 "metadata": {
  "kernelspec": {
   "display_name": "Python 3 (ipykernel)",
   "language": "python",
   "name": "python3"
  },
  "language_info": {
   "codemirror_mode": {
    "name": "ipython",
    "version": 3
   },
   "file_extension": ".py",
   "mimetype": "text/x-python",
   "name": "python",
   "nbconvert_exporter": "python",
   "pygments_lexer": "ipython3",
   "version": "3.9.13"
  }
 },
 "nbformat": 4,
 "nbformat_minor": 5
}
