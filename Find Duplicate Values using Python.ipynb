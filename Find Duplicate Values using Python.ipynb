{
 "cells": [
  {
   "cell_type": "markdown",
   "id": "a04c047b",
   "metadata": {},
   "source": [
    "Find Duplicate Values using Python"
   ]
  },
  {
   "cell_type": "code",
   "execution_count": 82,
   "id": "8bf3e7f9",
   "metadata": {},
   "outputs": [
    {
     "name": "stdout",
     "output_type": "stream",
     "text": [
      "['vaibhav', 'suraj', 'sandesh', 'raj', 'sam']\n",
      "['vaibhav', 'sandesh']\n"
     ]
    }
   ],
   "source": [
    "name=['vaibhav','suraj','sandesh','vaibhav','raj','sam','sandesh']\n",
    "\n",
    "name_list=[]\n",
    "dup_list=[]\n",
    "\n",
    "for i in (name):\n",
    "    if i not in name_list:\n",
    "        name_list.append(i)\n",
    "    else:\n",
    "        dup_list.append(i)\n",
    "        \n",
    "print(name_list)\n",
    "print(dup_list)"
   ]
  }
 ],
 "metadata": {
  "kernelspec": {
   "display_name": "Python 3 (ipykernel)",
   "language": "python",
   "name": "python3"
  },
  "language_info": {
   "codemirror_mode": {
    "name": "ipython",
    "version": 3
   },
   "file_extension": ".py",
   "mimetype": "text/x-python",
   "name": "python",
   "nbconvert_exporter": "python",
   "pygments_lexer": "ipython3",
   "version": "3.9.13"
  }
 },
 "nbformat": 4,
 "nbformat_minor": 5
}
