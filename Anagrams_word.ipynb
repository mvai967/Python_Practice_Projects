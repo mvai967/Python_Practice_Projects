{
 "cells": [
  {
   "cell_type": "markdown",
   "id": "0232b912",
   "metadata": {},
   "source": [
    "Group Anagrams using Python"
   ]
  },
  {
   "cell_type": "code",
   "execution_count": 26,
   "id": "91b6b0e7",
   "metadata": {},
   "outputs": [
    {
     "name": "stdout",
     "output_type": "stream",
     "text": [
      "ACT\n",
      "cat\n",
      "this is Anagrams word\n"
     ]
    }
   ],
   "source": [
    "a=input()\n",
    "b=input()\n",
    "a1=[]\n",
    "b1=[]\n",
    "for i in a.lower():\n",
    "    a1.append(i)\n",
    "# print(a1)\n",
    "\n",
    "for i in b.lower():\n",
    "    b1.append(i)\n",
    "# print(b1)\n",
    "\n",
    "if sorted(a1) == sorted(b1):\n",
    "    print('this is Anagrams word')\n",
    "else:\n",
    "    print('This is not Anagram word')"
   ]
  },
  {
   "cell_type": "code",
   "execution_count": null,
   "id": "27ad3ecf",
   "metadata": {},
   "outputs": [],
   "source": []
  }
 ],
 "metadata": {
  "kernelspec": {
   "display_name": "Python 3 (ipykernel)",
   "language": "python",
   "name": "python3"
  },
  "language_info": {
   "codemirror_mode": {
    "name": "ipython",
    "version": 3
   },
   "file_extension": ".py",
   "mimetype": "text/x-python",
   "name": "python",
   "nbconvert_exporter": "python",
   "pygments_lexer": "ipython3",
   "version": "3.9.13"
  }
 },
 "nbformat": 4,
 "nbformat_minor": 5
}
