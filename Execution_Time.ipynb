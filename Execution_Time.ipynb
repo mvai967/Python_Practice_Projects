{
 "cells": [
  {
   "cell_type": "code",
   "execution_count": 23,
   "id": "9edb984d",
   "metadata": {},
   "outputs": [
    {
     "name": "stdout",
     "output_type": "stream",
     "text": [
      "0.000997781753540039\n"
     ]
    }
   ],
   "source": [
    "from time import time\n",
    "\n",
    "start=time()\n",
    "\n",
    "def cal(a,b):\n",
    "    add=a+b\n",
    "    minus=a-b\n",
    "    mul=a*b\n",
    "    div=a/b\n",
    "#     print(add)\n",
    "#     print(minus)\n",
    "#     print(mul)\n",
    "#     print(div)\n",
    "   \n",
    "cal(7,8)\n",
    "\n",
    "end = time()\n",
    "\n",
    "execution_time = end - start\n",
    "\n",
    "print(execution_time)"
   ]
  }
 ],
 "metadata": {
  "kernelspec": {
   "display_name": "Python 3 (ipykernel)",
   "language": "python",
   "name": "python3"
  },
  "language_info": {
   "codemirror_mode": {
    "name": "ipython",
    "version": 3
   },
   "file_extension": ".py",
   "mimetype": "text/x-python",
   "name": "python",
   "nbconvert_exporter": "python",
   "pygments_lexer": "ipython3",
   "version": "3.9.13"
  }
 },
 "nbformat": 4,
 "nbformat_minor": 5
}
