{
 "cells": [
  {
   "cell_type": "code",
   "execution_count": 2,
   "id": "9a49573c",
   "metadata": {},
   "outputs": [
    {
     "name": "stdout",
     "output_type": "stream",
     "text": [
      "5 is not present in user list\n",
      "6 is not present in user list\n",
      "7 is not present in user list\n"
     ]
    }
   ],
   "source": [
    "list=[1,2,3,4,8,9,10]\n",
    "\n",
    "a=max(list)\n",
    "b=min(list)\n",
    "\n",
    "c=[]\n",
    "for i in range(b,a+1):\n",
    "    c.append(i)\n",
    "# print(c)\n",
    "for i in c:\n",
    "    if i not in list:\n",
    "        print(\"{} is not present in user list\".format(i))\n",
    "    else:\n",
    "        pass"
   ]
  }
 ],
 "metadata": {
  "kernelspec": {
   "display_name": "Python 3 (ipykernel)",
   "language": "python",
   "name": "python3"
  },
  "language_info": {
   "codemirror_mode": {
    "name": "ipython",
    "version": 3
   },
   "file_extension": ".py",
   "mimetype": "text/x-python",
   "name": "python",
   "nbconvert_exporter": "python",
   "pygments_lexer": "ipython3",
   "version": "3.9.13"
  }
 },
 "nbformat": 4,
 "nbformat_minor": 5
}
